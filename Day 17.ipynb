{
 "cells": [
  {
   "cell_type": "code",
   "execution_count": 1,
   "metadata": {},
   "outputs": [],
   "source": [
    "import matplotlib.pyplot as plt"
   ]
  },
  {
   "cell_type": "code",
   "execution_count": 2,
   "metadata": {},
   "outputs": [],
   "source": [
    "import os"
   ]
  },
  {
   "cell_type": "code",
   "execution_count": 3,
   "metadata": {},
   "outputs": [],
   "source": [
    "book_dir = \"./Gutenberg/Books/\""
   ]
  },
  {
   "cell_type": "code",
   "execution_count": 4,
   "metadata": {},
   "outputs": [],
   "source": [
    "from collections import Counter\n",
    "\n",
    "def read_book(title_path):\n",
    "    \"\"\"Read a book and return it as a string\"\"\"\n",
    "    with open(title_path,'r',encoding=\"utf8\") as cur_file:\n",
    "        text = cur_file.read()\n",
    "        text = text.replace(\"\\n\",\"\").replace(\"\\r\",\"\")\n",
    "    return text\n",
    "\n",
    "def count_words_inbuilt(text):\n",
    "    \"\"\"Count the number of times each word occurs in text(str).Return dictionary where keys are unique words\n",
    "    and values are word counts . Skip punctuation\"\"\"\n",
    "    text = text.lower()\n",
    "    skips = [\".\",\",\",\";\",\":\",\"'\",'\"']\n",
    "    for ch in skips:\n",
    "        text = text.replace(ch,\"\")\n",
    "    word_counts = Counter(text.split(\" \"))\n",
    "    return word_counts\n",
    "\n",
    "def word_stats(word_counts):\n",
    "    \"\"\"Return number of unique and word frequency\"\"\"\n",
    "    num_unique = len(word_counts)\n",
    "    counts = word_counts.values()\n",
    "    return (num_unique, counts)"
   ]
  },
  {
   "cell_type": "code",
   "execution_count": 5,
   "metadata": {},
   "outputs": [],
   "source": [
    "import pandas as pd"
   ]
  },
  {
   "cell_type": "code",
   "execution_count": 6,
   "metadata": {},
   "outputs": [],
   "source": [
    "stats = pd.DataFrame(columns=(\"Language\",\"Author\",\"Title\",\"Lenght\",\"Unique_Word\"))\n",
    "title_count = 1\n",
    "for language in os.listdir(book_dir):\n",
    "    for author in os.listdir(book_dir + \"/\" + language):\n",
    "        for title in os.listdir(book_dir + \"/\" + language + \"/\"+author):\n",
    "            inputfile = book_dir + \"/\" + language + \"/\"+author + \"/\" + title\n",
    "            #print(inputfile)\n",
    "            text = read_book(inputfile)\n",
    "            (num_unique,counts) = word_stats(count_words_inbuilt(text))\n",
    "            stats.loc[title_count] = language , author.capitalize() , title.replace(\".txt\",\"\") ,sum(counts),num_unique\n",
    "            title_count +=1"
   ]
  },
  {
   "cell_type": "code",
   "execution_count": 7,
   "metadata": {},
   "outputs": [
    {
     "data": {
      "text/html": [
       "<div>\n",
       "<style scoped>\n",
       "    .dataframe tbody tr th:only-of-type {\n",
       "        vertical-align: middle;\n",
       "    }\n",
       "\n",
       "    .dataframe tbody tr th {\n",
       "        vertical-align: top;\n",
       "    }\n",
       "\n",
       "    .dataframe thead th {\n",
       "        text-align: right;\n",
       "    }\n",
       "</style>\n",
       "<table border=\"1\" class=\"dataframe\">\n",
       "  <thead>\n",
       "    <tr style=\"text-align: right;\">\n",
       "      <th></th>\n",
       "      <th>Language</th>\n",
       "      <th>Author</th>\n",
       "      <th>Title</th>\n",
       "      <th>Lenght</th>\n",
       "      <th>Unique_Word</th>\n",
       "    </tr>\n",
       "  </thead>\n",
       "  <tbody>\n",
       "    <tr>\n",
       "      <th>1</th>\n",
       "      <td>English</td>\n",
       "      <td>Shakespeare</td>\n",
       "      <td>A Midsummer Night's Dream</td>\n",
       "      <td>16103</td>\n",
       "      <td>4345</td>\n",
       "    </tr>\n",
       "    <tr>\n",
       "      <th>2</th>\n",
       "      <td>English</td>\n",
       "      <td>Shakespeare</td>\n",
       "      <td>Hamlet</td>\n",
       "      <td>28551</td>\n",
       "      <td>6776</td>\n",
       "    </tr>\n",
       "    <tr>\n",
       "      <th>3</th>\n",
       "      <td>English</td>\n",
       "      <td>Shakespeare</td>\n",
       "      <td>Macbeth</td>\n",
       "      <td>16874</td>\n",
       "      <td>4780</td>\n",
       "    </tr>\n",
       "    <tr>\n",
       "      <th>4</th>\n",
       "      <td>English</td>\n",
       "      <td>Shakespeare</td>\n",
       "      <td>Othello</td>\n",
       "      <td>26590</td>\n",
       "      <td>5898</td>\n",
       "    </tr>\n",
       "    <tr>\n",
       "      <th>5</th>\n",
       "      <td>English</td>\n",
       "      <td>Shakespeare</td>\n",
       "      <td>Richard III</td>\n",
       "      <td>48315</td>\n",
       "      <td>5449</td>\n",
       "    </tr>\n",
       "  </tbody>\n",
       "</table>\n",
       "</div>"
      ],
      "text/plain": [
       "  Language       Author                      Title Lenght Unique_Word\n",
       "1  English  Shakespeare  A Midsummer Night's Dream  16103        4345\n",
       "2  English  Shakespeare                     Hamlet  28551        6776\n",
       "3  English  Shakespeare                    Macbeth  16874        4780\n",
       "4  English  Shakespeare                    Othello  26590        5898\n",
       "5  English  Shakespeare                Richard III  48315        5449"
      ]
     },
     "execution_count": 7,
     "metadata": {},
     "output_type": "execute_result"
    }
   ],
   "source": [
    "stats.head()"
   ]
  },
  {
   "cell_type": "code",
   "execution_count": 10,
   "metadata": {},
   "outputs": [
    {
     "data": {
      "image/png": "[encoded data removed]",
      "text/plain": [
       "<Figure size 432x288 with 1 Axes>"
      ]
     },
     "metadata": {
      "needs_background": "light"
     },
     "output_type": "display_data"
    }
   ],
   "source": [
    "plt.plot(stats.Lenght,stats.Unique_Word,\"bo\");"
   ]
  },
  {
   "cell_type": "code",
   "execution_count": 12,
   "metadata": {},
   "outputs": [
    {
     "data": {
      "text/html": [
       "<div>\n",
       "<style scoped>\n",
       "    .dataframe tbody tr th:only-of-type {\n",
       "        vertical-align: middle;\n",
       "    }\n",
       "\n",
       "    .dataframe tbody tr th {\n",
       "        vertical-align: top;\n",
       "    }\n",
       "\n",
       "    .dataframe thead th {\n",
       "        text-align: right;\n",
       "    }\n",
       "</style>\n",
       "<table border=\"1\" class=\"dataframe\">\n",
       "  <thead>\n",
       "    <tr style=\"text-align: right;\">\n",
       "      <th></th>\n",
       "      <th>Language</th>\n",
       "      <th>Author</th>\n",
       "      <th>Title</th>\n",
       "      <th>Lenght</th>\n",
       "      <th>Unique_Word</th>\n",
       "    </tr>\n",
       "  </thead>\n",
       "  <tbody>\n",
       "    <tr>\n",
       "      <th>1</th>\n",
       "      <td>English</td>\n",
       "      <td>Shakespeare</td>\n",
       "      <td>A Midsummer Night's Dream</td>\n",
       "      <td>16103</td>\n",
       "      <td>4345</td>\n",
       "    </tr>\n",
       "    <tr>\n",
       "      <th>2</th>\n",
       "      <td>English</td>\n",
       "      <td>Shakespeare</td>\n",
       "      <td>Hamlet</td>\n",
       "      <td>28551</td>\n",
       "      <td>6776</td>\n",
       "    </tr>\n",
       "    <tr>\n",
       "      <th>3</th>\n",
       "      <td>English</td>\n",
       "      <td>Shakespeare</td>\n",
       "      <td>Macbeth</td>\n",
       "      <td>16874</td>\n",
       "      <td>4780</td>\n",
       "    </tr>\n",
       "    <tr>\n",
       "      <th>4</th>\n",
       "      <td>English</td>\n",
       "      <td>Shakespeare</td>\n",
       "      <td>Othello</td>\n",
       "      <td>26590</td>\n",
       "      <td>5898</td>\n",
       "    </tr>\n",
       "    <tr>\n",
       "      <th>5</th>\n",
       "      <td>English</td>\n",
       "      <td>Shakespeare</td>\n",
       "      <td>Richard III</td>\n",
       "      <td>48315</td>\n",
       "      <td>5449</td>\n",
       "    </tr>\n",
       "    <tr>\n",
       "      <th>6</th>\n",
       "      <td>English</td>\n",
       "      <td>Shakespeare</td>\n",
       "      <td>Romeo and Juliet</td>\n",
       "      <td>40776</td>\n",
       "      <td>5118</td>\n",
       "    </tr>\n",
       "    <tr>\n",
       "      <th>7</th>\n",
       "      <td>English</td>\n",
       "      <td>Shakespeare</td>\n",
       "      <td>The Merchant of Venice</td>\n",
       "      <td>20949</td>\n",
       "      <td>4978</td>\n",
       "    </tr>\n",
       "  </tbody>\n",
       "</table>\n",
       "</div>"
      ],
      "text/plain": [
       "  Language       Author                      Title Lenght Unique_Word\n",
       "1  English  Shakespeare  A Midsummer Night's Dream  16103        4345\n",
       "2  English  Shakespeare                     Hamlet  28551        6776\n",
       "3  English  Shakespeare                    Macbeth  16874        4780\n",
       "4  English  Shakespeare                    Othello  26590        5898\n",
       "5  English  Shakespeare                Richard III  48315        5449\n",
       "6  English  Shakespeare           Romeo and Juliet  40776        5118\n",
       "7  English  Shakespeare     The Merchant of Venice  20949        4978"
      ]
     },
     "execution_count": 12,
     "metadata": {},
     "output_type": "execute_result"
    }
   ],
   "source": [
    "stats[stats.Language == \"English\"]"
   ]
  },
  {
   "cell_type": "code",
   "execution_count": 22,
   "metadata": {},
   "outputs": [
    {
     "data": {
      "text/plain": [
       "Text(0, 0.5, 'Number of unique words')"
      ]
     },
     "execution_count": 22,
     "metadata": {},
     "output_type": "execute_result"
    },
    {
     "data": {
      "image/png": "[encoded data removed]",
      "text/plain": [
       "<Figure size 1080x720 with 1 Axes>"
      ]
     },
     "metadata": {
      "needs_background": "light"
     },
     "output_type": "display_data"
    }
   ],
   "source": [
    "plt.figure(figsize=(15,10))\n",
    "subset = stats[stats.Language == \"English\"]\n",
    "plt.loglog(subset.Lenght,subset.Unique_Word,\"o\",label =\"English\",color = \"crimson\")\n",
    "subset = stats[stats.Language == \"French\"]\n",
    "plt.loglog(subset.Lenght,subset.Unique_Word,\"o\",label =\"French\",color = \"forestgreen\")\n",
    "subset = stats[stats.Language == \"German\"]\n",
    "plt.loglog(subset.Lenght,subset.Unique_Word,\"o\",label =\"German\",color = \"orange\")\n",
    "subset = stats[stats.Language == \"Portuguese\"]\n",
    "plt.loglog(subset.Lenght,subset.Unique_Word,\"o\",label =\"Portuguese\",color = \"blueviolet\")\n",
    "plt.legend()\n",
    "plt.xlabel(\"Book Lenght\")\n",
    "plt.ylabel(\"Number of unique words\")"
   ]
  }
 ],
 "metadata": {
  "kernelspec": {
   "display_name": "Python 3",
   "language": "python",
   "name": "python3"
  },
  "language_info": {
   "codemirror_mode": {
    "name": "ipython",
    "version": 3
   },
   "file_extension": ".py",
   "mimetype": "text/x-python",
   "name": "python",
   "nbconvert_exporter": "python",
   "pygments_lexer": "ipython3",
   "version": "3.8.3"
  }
 },
 "nbformat": 4,
 "nbformat_minor": 4
}
