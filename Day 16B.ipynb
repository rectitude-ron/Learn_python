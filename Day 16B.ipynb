{
 "cells": [
  {
   "cell_type": "code",
   "execution_count": 14,
   "metadata": {},
   "outputs": [],
   "source": [
    "import os"
   ]
  },
  {
   "cell_type": "code",
   "execution_count": 17,
   "metadata": {},
   "outputs": [],
   "source": [
    "book_dir = \"./Gutenberg/Books/\""
   ]
  },
  {
   "cell_type": "code",
   "execution_count": 19,
   "metadata": {},
   "outputs": [
    {
     "data": {
      "text/plain": [
       "['EngFr', 'GerPort']"
      ]
     },
     "execution_count": 19,
     "metadata": {},
     "output_type": "execute_result"
    }
   ],
   "source": [
    "os.listdir(book_dir)"
   ]
  },
  {
   "cell_type": "code",
   "execution_count": 24,
   "metadata": {},
   "outputs": [
    {
     "name": "stdout",
     "output_type": "stream",
     "text": [
      "./Gutenberg/Books//English/shakespeare/A Midsummer Night's Dream.txt\n",
      "./Gutenberg/Books//English/shakespeare/Hamlet.txt\n",
      "./Gutenberg/Books//English/shakespeare/Macbeth.txt\n",
      "./Gutenberg/Books//English/shakespeare/Othello.txt\n",
      "./Gutenberg/Books//English/shakespeare/Richard III.txt\n",
      "./Gutenberg/Books//English/shakespeare/Romeo and Juliet.txt\n",
      "./Gutenberg/Books//English/shakespeare/The Merchant of Venice.txt\n",
      "./Gutenberg/Books//French/chevalier/L'enfer et le paradis de l'autre monde.txt\n",
      "./Gutenberg/Books//French/chevalier/L'åle de sable.txt\n",
      "./Gutenberg/Books//French/chevalier/La capitaine.txt\n",
      "./Gutenberg/Books//French/chevalier/La fille des indiens rouges.txt\n",
      "./Gutenberg/Books//French/chevalier/La fille du pirate.txt\n",
      "./Gutenberg/Books//French/chevalier/Le chasseur noir.txt\n",
      "./Gutenberg/Books//French/chevalier/Les derniers Iroquois.txt\n",
      "./Gutenberg/Books//French/de Maupassant/Boule de Suif.txt\n",
      "./Gutenberg/Books//French/de Maupassant/Claire de Lune.txt\n",
      "./Gutenberg/Books//French/de Maupassant/Contes de la Becasse.txt\n",
      "./Gutenberg/Books//French/de Maupassant/L'inutile beautÇ.txt\n",
      "./Gutenberg/Books//French/de Maupassant/La Main Gauche.txt\n",
      "./Gutenberg/Books//French/de Maupassant/La Maison Tellier.txt\n",
      "./Gutenberg/Books//French/de Maupassant/La petite roque.txt\n",
      "./Gutenberg/Books//French/de Maupassant/Le Horla.txt\n",
      "./Gutenberg/Books//French/de Maupassant/Œuvres complètes de Guy de Maupassant.txt\n",
      "./Gutenberg/Books//French/diderot/Ceci n'est pas un conte.txt\n",
      "./Gutenberg/Books//French/diderot/Entretien d'un päre avec ses enfants.txt\n",
      "./Gutenberg/Books//French/diderot/L'oiseau blanc.txt\n",
      "./Gutenberg/Books//French/diderot/Les deux amis de Bourbonne.txt\n",
      "./Gutenberg/Books//French/diderot/Regrets sur ma vieille robe de chambre.txt\n",
      "./Gutenberg/Books//French/sand/cora.txt\n",
      "./Gutenberg/Books//French/sand/Jacques le fataliste et son maåtre.txt\n",
      "./Gutenberg/Books//French/sand/L' Orco.txt\n",
      "./Gutenberg/Books//French/sand/La Coupe; Lupo Liverani; Le Toast; Garnier; Le Contrebandier; La Ràverie Ö Paris.txt\n",
      "./Gutenberg/Books//French/sand/La Marquise.txt\n",
      "./Gutenberg/Books//French/sand/Le Piccinino.txt\n",
      "./Gutenberg/Books//French/sand/Le poâme de Myrza.txt\n",
      "./Gutenberg/Books//French/sand/Mattea.txt\n",
      "./Gutenberg/Books//French/sand/Metella.txt\n",
      "./Gutenberg/Books//French/sand/Oeuvres illustrÇes de George Sand.txt\n",
      "./Gutenberg/Books//French/sand/Pauline.txt\n",
      "./Gutenberg/Books//German/lessing/der freigeist.txt\n",
      "./Gutenberg/Books//German/lessing/der junge gelehrte.txt\n",
      "./Gutenberg/Books//German/lessing/die juden.txt\n",
      "./Gutenberg/Books//German/lessing/emilia galotti.txt\n",
      "./Gutenberg/Books//German/lessing/hamburgische dramaturgie.txt\n",
      "./Gutenberg/Books//German/lessing/minna von barnhelm.txt\n",
      "./Gutenberg/Books//German/lessing/miss sara sampson.txt\n",
      "./Gutenberg/Books//German/lessing/philotas.txt\n",
      "./Gutenberg/Books//German/raimund/Das MÑdchen aus der Feenwelt.txt\n",
      "./Gutenberg/Books//German/raimund/Der Alpenkînig und der Menschenfeind.txt\n",
      "./Gutenberg/Books//German/raimund/Der Barometermacher auf der Zauberinsel.txt\n",
      "./Gutenberg/Books//German/raimund/Der Diamant des Geisterkînigs.txt\n",
      "./Gutenberg/Books//German/raimund/Der Verschwender.txt\n",
      "./Gutenberg/Books//German/raimund/Die gefesselte Phantasie.txt\n",
      "./Gutenberg/Books//German/raimund/Die unheilbringende Krone.txt\n",
      "./Gutenberg/Books//German/raimund/Moisasurs Zauberfluch.txt\n",
      "./Gutenberg/Books//German/schiller/Der Neffe als Onkel.txt\n",
      "./Gutenberg/Books//German/schiller/Der Parasit, oder die Kunst, sein GlÅck zu machen.txt\n",
      "./Gutenberg/Books//German/schiller/die braut von messina.txt\n",
      "./Gutenberg/Books//German/schiller/Die Huldigung der KÅnste.txt\n",
      "./Gutenberg/Books//German/schiller/Die Jungfrau von Orleans.txt\n",
      "./Gutenberg/Books//German/schiller/Die Piccolomini.txt\n",
      "./Gutenberg/Books//German/schiller/Die Verschwîrung des Fiesco zu Genua.txt\n",
      "./Gutenberg/Books//German/schiller/Kabale und Liebe.txt\n",
      "./Gutenberg/Books//German/schiller/Turandot, Prinzessin von China.txt\n",
      "./Gutenberg/Books//German/schiller/Wallensteins Lager.txt\n",
      "./Gutenberg/Books//German/schiller/Wallensteins Tod.txt\n",
      "./Gutenberg/Books//German/shakespeare/Der Kaufmann von Venedig.txt\n",
      "./Gutenberg/Books//German/shakespeare/Ein Sommernachtstraum.txt\n",
      "./Gutenberg/Books//German/shakespeare/Hamlet.txt\n",
      "./Gutenberg/Books//German/shakespeare/Macbeth.txt\n",
      "./Gutenberg/Books//German/shakespeare/Othello.txt\n",
      "./Gutenberg/Books//German/shakespeare/Richard III.txt\n",
      "./Gutenberg/Books//German/shakespeare/Romeo und Julia.txt\n",
      "./Gutenberg/Books//Portuguese/branco/A Filha do Arcediago.txt\n",
      "./Gutenberg/Books//Portuguese/branco/A Neta do Arcediago.txt\n",
      "./Gutenberg/Books//Portuguese/branco/A Queda d'um Anjo.txt\n",
      "./Gutenberg/Books//Portuguese/branco/Agulha em Palheiro.txt\n",
      "./Gutenberg/Books//Portuguese/branco/Amor de Perdição.txt\n",
      "./Gutenberg/Books//Portuguese/branco/Amor de Salvação.txt\n",
      "./Gutenberg/Books//Portuguese/branco/Annos de Prosa.txt\n",
      "./Gutenberg/Books//Portuguese/branco/Carlota Angela.txt\n",
      "./Gutenberg/Books//Portuguese/branco/Estrellas Funestas.txt\n",
      "./Gutenberg/Books//Portuguese/branco/Estrellas Prop°cias.txt\n",
      "./Gutenberg/Books//Portuguese/branco/Lagrimas Abenáoadas.txt\n",
      "./Gutenberg/Books//Portuguese/branco/Livro de Consolação.txt\n",
      "./Gutenberg/Books//Portuguese/branco/O Olho de Vidro.txt\n",
      "./Gutenberg/Books//Portuguese/branco/O que fazem mulheres.txt\n",
      "./Gutenberg/Books//Portuguese/branco/O Regicida.txt\n",
      "./Gutenberg/Books//Portuguese/branco/Scenas Contemporaneas.txt\n",
      "./Gutenberg/Books//Portuguese/dinis/A Morgadinha dos Cannaviaes.txt\n",
      "./Gutenberg/Books//Portuguese/dinis/Os fidalgos da Casa Mourisca.txt\n",
      "./Gutenberg/Books//Portuguese/dinis/Uma fam°lia ingleza.txt\n",
      "./Gutenberg/Books//Portuguese/Queir¢s/A Cidade e as Serras.txt\n",
      "./Gutenberg/Books//Portuguese/Queir¢s/A correspondància de Fradique Mendes.txt\n",
      "./Gutenberg/Books//Portuguese/Queir¢s/A Illustre Casa de Ramires.txt\n",
      "./Gutenberg/Books//Portuguese/Queir¢s/A Rel°quia.txt\n",
      "./Gutenberg/Books//Portuguese/Queir¢s/Cartas de Inglaterra.txt\n",
      "./Gutenberg/Books//Portuguese/Queir¢s/O crime do padre Amaro.txt\n",
      "./Gutenberg/Books//Portuguese/Queir¢s/O Mandarim.txt\n",
      "./Gutenberg/Books//Portuguese/Queir¢s/O Primo Bazilio.txt\n",
      "./Gutenberg/Books//Portuguese/Queir¢s/Os Maias.txt\n",
      "./Gutenberg/Books//Portuguese/shakespeare/Hamlet.txt\n"
     ]
    }
   ],
   "source": [
    "count = 0\n",
    "for language in os.listdir(book_dir):\n",
    "    for author in os.listdir(book_dir + \"/\" + language):\n",
    "        for title in os.listdir(book_dir + \"/\" + language + \"/\"+author):\n",
    "            inputfile = book_dir + \"/\" + language + \"/\"+author + \"/\" + title\n",
    "            print(inputfile)\n",
    "            count +=1"
   ]
  },
  {
   "cell_type": "code",
   "execution_count": 25,
   "metadata": {},
   "outputs": [
    {
     "name": "stdout",
     "output_type": "stream",
     "text": [
      "102\n"
     ]
    }
   ],
   "source": [
    "print(count)"
   ]
  },
  {
   "cell_type": "code",
   "execution_count": 26,
   "metadata": {},
   "outputs": [],
   "source": [
    "#panle data\n",
    "import pandas as pd"
   ]
  },
  {
   "cell_type": "code",
   "execution_count": 27,
   "metadata": {},
   "outputs": [],
   "source": [
    "table = pd.DataFrame(columns=(\"name\",\"age\"))"
   ]
  },
  {
   "cell_type": "code",
   "execution_count": 28,
   "metadata": {},
   "outputs": [
    {
     "name": "stdout",
     "output_type": "stream",
     "text": [
      "Rounak\n",
      "25\n",
      "Pupu\n",
      "24\n",
      "Srijita\n",
      "15\n",
      "Shila\n",
      "56\n",
      "Pritikar\n",
      "68\n"
     ]
    }
   ],
   "source": [
    "for i in range(5):\n",
    "    name = str(input())\n",
    "    age = int(input())\n",
    "    table.loc[i] = name , age"
   ]
  },
  {
   "cell_type": "code",
   "execution_count": 29,
   "metadata": {},
   "outputs": [
    {
     "data": {
      "text/html": [
       "<div>\n",
       "<style scoped>\n",
       "    .dataframe tbody tr th:only-of-type {\n",
       "        vertical-align: middle;\n",
       "    }\n",
       "\n",
       "    .dataframe tbody tr th {\n",
       "        vertical-align: top;\n",
       "    }\n",
       "\n",
       "    .dataframe thead th {\n",
       "        text-align: right;\n",
       "    }\n",
       "</style>\n",
       "<table border=\"1\" class=\"dataframe\">\n",
       "  <thead>\n",
       "    <tr style=\"text-align: right;\">\n",
       "      <th></th>\n",
       "      <th>name</th>\n",
       "      <th>age</th>\n",
       "    </tr>\n",
       "  </thead>\n",
       "  <tbody>\n",
       "    <tr>\n",
       "      <th>0</th>\n",
       "      <td>Rounak</td>\n",
       "      <td>25</td>\n",
       "    </tr>\n",
       "    <tr>\n",
       "      <th>1</th>\n",
       "      <td>Pupu</td>\n",
       "      <td>24</td>\n",
       "    </tr>\n",
       "    <tr>\n",
       "      <th>2</th>\n",
       "      <td>Srijita</td>\n",
       "      <td>15</td>\n",
       "    </tr>\n",
       "    <tr>\n",
       "      <th>3</th>\n",
       "      <td>Shila</td>\n",
       "      <td>56</td>\n",
       "    </tr>\n",
       "    <tr>\n",
       "      <th>4</th>\n",
       "      <td>Pritikar</td>\n",
       "      <td>68</td>\n",
       "    </tr>\n",
       "  </tbody>\n",
       "</table>\n",
       "</div>"
      ],
      "text/plain": [
       "       name age\n",
       "0    Rounak  25\n",
       "1      Pupu  24\n",
       "2   Srijita  15\n",
       "3     Shila  56\n",
       "4  Pritikar  68"
      ]
     },
     "execution_count": 29,
     "metadata": {},
     "output_type": "execute_result"
    }
   ],
   "source": [
    "table"
   ]
  },
  {
   "cell_type": "code",
   "execution_count": 30,
   "metadata": {},
   "outputs": [
    {
     "data": {
      "text/plain": [
       "Index(['name', 'age'], dtype='object')"
      ]
     },
     "execution_count": 30,
     "metadata": {},
     "output_type": "execute_result"
    }
   ],
   "source": [
    "table.columns"
   ]
  },
  {
   "cell_type": "code",
   "execution_count": 40,
   "metadata": {},
   "outputs": [],
   "source": [
    "from collections import Counter\n",
    "\n",
    "def read_book(title_path):\n",
    "    \"\"\"Read a book and return it as a string\"\"\"\n",
    "    with open(title_path,'r',encoding=\"utf8\") as cur_file:\n",
    "        text = cur_file.read()\n",
    "        text = text.replace(\"\\n\",\"\").replace(\"\\r\",\"\")\n",
    "    return text\n",
    "\n",
    "def count_words_inbuilt(text):\n",
    "    \"\"\"Count the number of times each word occurs in text(str).Return dictionary where keys are unique words\n",
    "    and values are word counts . Skip punctuation\"\"\"\n",
    "    text = text.lower()\n",
    "    skips = [\".\",\",\",\";\",\":\",\"'\",'\"']\n",
    "    for ch in skips:\n",
    "        text = text.replace(ch,\"\")\n",
    "    word_counts = Counter(text.split(\" \"))\n",
    "    return word_counts\n",
    "\n",
    "def word_stats(word_counts):\n",
    "    \"\"\"Return number of unique and word frequency\"\"\"\n",
    "    num_unique = len(word_counts)\n",
    "    counts = word_counts.values()\n",
    "    return (num_unique, counts)"
   ]
  },
  {
   "cell_type": "code",
   "execution_count": 50,
   "metadata": {},
   "outputs": [],
   "source": [
    "stats = pd.DataFrame(columns=(\"Language\",\"Author\",\"Title\",\"Lenght\",\"Unique_Word\"))\n",
    "title_count = 1\n",
    "for language in os.listdir(book_dir):\n",
    "    for author in os.listdir(book_dir + \"/\" + language):\n",
    "        for title in os.listdir(book_dir + \"/\" + language + \"/\"+author):\n",
    "            inputfile = book_dir + \"/\" + language + \"/\"+author + \"/\" + title\n",
    "            #print(inputfile)\n",
    "            text = read_book(inputfile)\n",
    "            (num_unique,counts) = word_stats(count_words_inbuilt(text))\n",
    "            stats.loc[title_count] = language , author.capitalize() , title.replace(\".txt\",\"\") ,sum(counts),num_unique\n",
    "            title_count +=1"
   ]
  },
  {
   "cell_type": "code",
   "execution_count": 51,
   "metadata": {},
   "outputs": [
    {
     "data": {
      "text/html": [
       "<div>\n",
       "<style scoped>\n",
       "    .dataframe tbody tr th:only-of-type {\n",
       "        vertical-align: middle;\n",
       "    }\n",
       "\n",
       "    .dataframe tbody tr th {\n",
       "        vertical-align: top;\n",
       "    }\n",
       "\n",
       "    .dataframe thead th {\n",
       "        text-align: right;\n",
       "    }\n",
       "</style>\n",
       "<table border=\"1\" class=\"dataframe\">\n",
       "  <thead>\n",
       "    <tr style=\"text-align: right;\">\n",
       "      <th></th>\n",
       "      <th>Language</th>\n",
       "      <th>Author</th>\n",
       "      <th>Title</th>\n",
       "      <th>Lenght</th>\n",
       "      <th>Unique_Word</th>\n",
       "    </tr>\n",
       "  </thead>\n",
       "  <tbody>\n",
       "    <tr>\n",
       "      <th>1</th>\n",
       "      <td>English</td>\n",
       "      <td>Shakespeare</td>\n",
       "      <td>A Midsummer Night's Dream</td>\n",
       "      <td>16103</td>\n",
       "      <td>4345</td>\n",
       "    </tr>\n",
       "    <tr>\n",
       "      <th>2</th>\n",
       "      <td>English</td>\n",
       "      <td>Shakespeare</td>\n",
       "      <td>Hamlet</td>\n",
       "      <td>28551</td>\n",
       "      <td>6776</td>\n",
       "    </tr>\n",
       "    <tr>\n",
       "      <th>3</th>\n",
       "      <td>English</td>\n",
       "      <td>Shakespeare</td>\n",
       "      <td>Macbeth</td>\n",
       "      <td>16874</td>\n",
       "      <td>4780</td>\n",
       "    </tr>\n",
       "    <tr>\n",
       "      <th>4</th>\n",
       "      <td>English</td>\n",
       "      <td>Shakespeare</td>\n",
       "      <td>Othello</td>\n",
       "      <td>26590</td>\n",
       "      <td>5898</td>\n",
       "    </tr>\n",
       "    <tr>\n",
       "      <th>5</th>\n",
       "      <td>English</td>\n",
       "      <td>Shakespeare</td>\n",
       "      <td>Richard III</td>\n",
       "      <td>48315</td>\n",
       "      <td>5449</td>\n",
       "    </tr>\n",
       "  </tbody>\n",
       "</table>\n",
       "</div>"
      ],
      "text/plain": [
       "  Language       Author                      Title Lenght Unique_Word\n",
       "1  English  Shakespeare  A Midsummer Night's Dream  16103        4345\n",
       "2  English  Shakespeare                     Hamlet  28551        6776\n",
       "3  English  Shakespeare                    Macbeth  16874        4780\n",
       "4  English  Shakespeare                    Othello  26590        5898\n",
       "5  English  Shakespeare                Richard III  48315        5449"
      ]
     },
     "execution_count": 51,
     "metadata": {},
     "output_type": "execute_result"
    }
   ],
   "source": [
    "stats.head()"
   ]
  },
  {
   "cell_type": "code",
   "execution_count": 52,
   "metadata": {},
   "outputs": [
    {
     "data": {
      "text/html": [
       "<div>\n",
       "<style scoped>\n",
       "    .dataframe tbody tr th:only-of-type {\n",
       "        vertical-align: middle;\n",
       "    }\n",
       "\n",
       "    .dataframe tbody tr th {\n",
       "        vertical-align: top;\n",
       "    }\n",
       "\n",
       "    .dataframe thead th {\n",
       "        text-align: right;\n",
       "    }\n",
       "</style>\n",
       "<table border=\"1\" class=\"dataframe\">\n",
       "  <thead>\n",
       "    <tr style=\"text-align: right;\">\n",
       "      <th></th>\n",
       "      <th>Language</th>\n",
       "      <th>Author</th>\n",
       "      <th>Title</th>\n",
       "      <th>Lenght</th>\n",
       "      <th>Unique_Word</th>\n",
       "    </tr>\n",
       "  </thead>\n",
       "  <tbody>\n",
       "    <tr>\n",
       "      <th>98</th>\n",
       "      <td>Portuguese</td>\n",
       "      <td>Queir¢s</td>\n",
       "      <td>O crime do padre Amaro</td>\n",
       "      <td>128630</td>\n",
       "      <td>29300</td>\n",
       "    </tr>\n",
       "    <tr>\n",
       "      <th>99</th>\n",
       "      <td>Portuguese</td>\n",
       "      <td>Queir¢s</td>\n",
       "      <td>O Mandarim</td>\n",
       "      <td>21440</td>\n",
       "      <td>7836</td>\n",
       "    </tr>\n",
       "    <tr>\n",
       "      <th>100</th>\n",
       "      <td>Portuguese</td>\n",
       "      <td>Queir¢s</td>\n",
       "      <td>O Primo Bazilio</td>\n",
       "      <td>107303</td>\n",
       "      <td>27644</td>\n",
       "    </tr>\n",
       "    <tr>\n",
       "      <th>101</th>\n",
       "      <td>Portuguese</td>\n",
       "      <td>Queir¢s</td>\n",
       "      <td>Os Maias</td>\n",
       "      <td>195771</td>\n",
       "      <td>40665</td>\n",
       "    </tr>\n",
       "    <tr>\n",
       "      <th>102</th>\n",
       "      <td>Portuguese</td>\n",
       "      <td>Shakespeare</td>\n",
       "      <td>Hamlet</td>\n",
       "      <td>30567</td>\n",
       "      <td>9700</td>\n",
       "    </tr>\n",
       "  </tbody>\n",
       "</table>\n",
       "</div>"
      ],
      "text/plain": [
       "       Language       Author                   Title  Lenght Unique_Word\n",
       "98   Portuguese      Queir¢s  O crime do padre Amaro  128630       29300\n",
       "99   Portuguese      Queir¢s              O Mandarim   21440        7836\n",
       "100  Portuguese      Queir¢s         O Primo Bazilio  107303       27644\n",
       "101  Portuguese      Queir¢s                Os Maias  195771       40665\n",
       "102  Portuguese  Shakespeare                  Hamlet   30567        9700"
      ]
     },
     "execution_count": 52,
     "metadata": {},
     "output_type": "execute_result"
    }
   ],
   "source": [
    "stats.tail()"
   ]
  },
  {
   "cell_type": "code",
   "execution_count": null,
   "metadata": {},
   "outputs": [],
   "source": []
  }
 ],
 "metadata": {
  "kernelspec": {
   "display_name": "Python 3",
   "language": "python",
   "name": "python3"
  },
  "language_info": {
   "codemirror_mode": {
    "name": "ipython",
    "version": 3
   },
   "file_extension": ".py",
   "mimetype": "text/x-python",
   "name": "python",
   "nbconvert_exporter": "python",
   "pygments_lexer": "ipython3",
   "version": "3.8.3"
  }
 },
 "nbformat": 4,
 "nbformat_minor": 4
}
