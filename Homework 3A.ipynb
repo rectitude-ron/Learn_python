{
 "cells": [
  {
   "cell_type": "code",
   "execution_count": 1,
   "metadata": {},
   "outputs": [],
   "source": [
    "import string"
   ]
  },
  {
   "cell_type": "code",
   "execution_count": 3,
   "metadata": {},
   "outputs": [],
   "source": [
    "position={}\n",
    "alphabet = \" \" + string.ascii_lowercase\n",
    "for i in range(27):\n",
    "    k=alphabet[i]\n",
    "    v=i\n",
    "    position[k]=i"
   ]
  },
  {
   "cell_type": "code",
   "execution_count": 4,
   "metadata": {},
   "outputs": [
    {
     "data": {
      "text/plain": [
       "14"
      ]
     },
     "execution_count": 4,
     "metadata": {},
     "output_type": "execute_result"
    }
   ],
   "source": [
    "position['n']"
   ]
  },
  {
   "cell_type": "code",
   "execution_count": 5,
   "metadata": {},
   "outputs": [],
   "source": [
    "msg =\"hi my name is caesar\""
   ]
  },
  {
   "cell_type": "code",
   "execution_count": 6,
   "metadata": {},
   "outputs": [],
   "source": [
    "def get_key(val,pos=position): \n",
    "    for key, value in pos.items(): \n",
    "        if val == value:\n",
    "            return key"
   ]
  },
  {
   "cell_type": "code",
   "execution_count": 21,
   "metadata": {},
   "outputs": [],
   "source": [
    "def caesar(msg,key=1,pos=position):\n",
    "    cipher =\"\"\n",
    "    for i in range(len(msg)):\n",
    "        val = pos[msg[i]]\n",
    "        shft_val = (val+key)%27\n",
    "        shft_key = get_key(shft_val)\n",
    "        cipher = cipher + str(shft_key)\n",
    "    return cipher"
   ]
  },
  {
   "cell_type": "code",
   "execution_count": 22,
   "metadata": {},
   "outputs": [
    {
     "name": "stdout",
     "output_type": "stream",
     "text": [
      "ijanzaobnfajtadbftbs\n"
     ]
    }
   ],
   "source": [
    "emsg = caesar(msg)\n",
    "print(emsg)"
   ]
  },
  {
   "cell_type": "code",
   "execution_count": 23,
   "metadata": {},
   "outputs": [
    {
     "name": "stdout",
     "output_type": "stream",
     "text": [
      "klcpacqdphclvcfdhvdu\n"
     ]
    }
   ],
   "source": [
    "emsg1 = caesar(msg,3)\n",
    "print(emsg1)"
   ]
  },
  {
   "cell_type": "code",
   "execution_count": null,
   "metadata": {},
   "outputs": [],
   "source": []
  }
 ],
 "metadata": {
  "kernelspec": {
   "display_name": "Python 3",
   "language": "python",
   "name": "python3"
  },
  "language_info": {
   "codemirror_mode": {
    "name": "ipython",
    "version": 3
   },
   "file_extension": ".py",
   "mimetype": "text/x-python",
   "name": "python",
   "nbconvert_exporter": "python",
   "pygments_lexer": "ipython3",
   "version": "3.8.3"
  }
 },
 "nbformat": 4,
 "nbformat_minor": 4
}
